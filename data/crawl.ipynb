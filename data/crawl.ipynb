{
 "cells": [
  {
   "cell_type": "code",
   "execution_count": 1,
   "metadata": {},
   "outputs": [],
   "source": [
    "import numpy as np\n",
    "import pandas as pd\n",
    "from selenium import webdriver\n",
    "from selenium.webdriver.common.by import By\n",
    "from webdriver_manager.chrome import ChromeDriverManager\n",
    "from bs4 import BeautifulSoup\n",
    "import time"
   ]
  },
  {
   "cell_type": "markdown",
   "metadata": {},
   "source": [
    "# Kinh Te"
   ]
  },
  {
   "cell_type": "code",
   "execution_count": 4,
   "metadata": {},
   "outputs": [
    {
     "name": "stderr",
     "output_type": "stream",
     "text": [
      "C:\\Users\\ohmyb\\AppData\\Local\\Temp\\ipykernel_14888\\555562475.py:3: DeprecationWarning: executable_path has been deprecated, please pass in a Service object\n",
      "  driver = webdriver.Chrome(ChromeDriverManager().install())\n",
      "C:\\Users\\ohmyb\\AppData\\Local\\Temp\\ipykernel_14888\\555562475.py:14: DeprecationWarning: executable_path has been deprecated, please pass in a Service object\n",
      "  driver2 = webdriver.Chrome(ChromeDriverManager().install())\n"
     ]
    },
    {
     "name": "stdout",
     "output_type": "stream",
     "text": [
      "fail kinh te\n",
      "fail kinh te\n",
      "fail kinh te\n",
      "fail kinh te\n",
      "fail kinh te\n",
      "fail kinh te\n",
      "fail kinh te\n",
      "fail kinh te\n",
      "fail kinh te\n",
      "fail kinh te\n",
      "fail kinh te\n",
      "fail kinh te\n",
      "fail kinh te\n",
      "fail kinh te\n",
      "fail kinh te\n",
      "fail kinh te\n",
      "fail kinh te\n",
      "fail kinh te\n",
      "fail kinh te\n",
      "fail kinh te\n",
      "fail kinh te\n",
      "fail kinh te\n",
      "fail kinh te\n",
      "fail kinh te\n",
      "fail kinh te\n",
      "fail kinh te\n",
      "fail kinh te\n",
      "fail kinh te\n",
      "fail kinh te\n",
      "fail kinh te\n",
      "fail kinh te\n",
      "fail kinh te\n",
      "fail kinh te\n",
      "fail kinh te\n",
      "fail kinh te\n",
      "fail kinh te\n",
      "fail kinh te\n",
      "fail kinh te\n"
     ]
    }
   ],
   "source": [
    "url = 'https://vnexpress.net'\n",
    "uri = \"/kinh-doanh\"\n",
    "driver = webdriver.Chrome(ChromeDriverManager().install())\n",
    "all_link = []\n",
    "contents_kinhte = []\n",
    "count = 1\n",
    "c = 1\n",
    "  \n",
    "while len(contents_kinhte) < 1000:\n",
    "     #driver.execute_script(\"window.scrollTo(0, document.body.scrollHeight);\")\n",
    "     driver.get(url+uri)\n",
    "     soup = BeautifulSoup(driver.page_source, 'html.parser')\n",
    "     [all_link.append(y['href']) for y in [x.find(\"a\") for x in soup.find_all('h3', class_='title-news')]]\n",
    "     next_button = soup.find(\"a\", class_=\"btn-page next-page\")[\"href\"]\n",
    "     for link in all_link:\n",
    "          try:\n",
    "               driver.get(link)\n",
    "               soup2 = BeautifulSoup(driver.page_source, 'html.parser')\n",
    "               tags_content = soup2.find(\"article\", class_= \"fck_detail\")\n",
    "               content = \"\".join([block.text for block in tags_content.find_all(\"p\")])\n",
    "               if len(content.split()) > 30:\n",
    "                    contents_kinhte.append(content)\n",
    "          except:\n",
    "               c += 1\n",
    "               print(\"fail kinh te\", c)\n",
    "               pass\n",
    "     all_link = []\n",
    "     count += 1\n",
    "     uri = next_button\n",
    "     if uri == \"/kinh-doanh-p21\": break\n",
    "     time.sleep(5)\n",
    "driver.quit()"
   ]
  },
  {
   "cell_type": "code",
   "execution_count": null,
   "metadata": {},
   "outputs": [],
   "source": [
    "contents_kinhte"
   ]
  },
  {
   "cell_type": "markdown",
   "metadata": {},
   "source": [
    "# The Thao"
   ]
  },
  {
   "cell_type": "code",
   "execution_count": null,
   "metadata": {},
   "outputs": [],
   "source": [
    "url = 'https://vnexpress.net'\n",
    "uri = \"/the-thao\"\n",
    "driver = webdriver.Chrome(ChromeDriverManager().install())\n",
    "all_link = []\n",
    "contents_thethao = []\n",
    "count = 1\n",
    "c = 1\n",
    "while len(contents_thethao) < 1000:\n",
    "     #driver.execute_script(\"window.scrollTo(0, document.body.scrollHeight);\")\n",
    "     time.sleep(5)\n",
    "     driver.get(url+uri)\n",
    "     soup = BeautifulSoup(driver.page_source, 'html.parser')\n",
    "     [all_link.append(y['href']) for y in [x.find(\"a\") for x in soup.find_all('h3', class_='title-news')]]\n",
    "     next_button = soup.find(\"a\", class_=\"btn-page next-page\")[\"href\"]\n",
    "     for link in all_link:\n",
    "       try:\n",
    "          driver.get(link)\n",
    "          soup = BeautifulSoup(driver.page_source, 'html.parser')\n",
    "          time.sleep(3)\n",
    "          tags_content = soup.find(\"article\", class_= \"fck_detail\")\n",
    "          content = \"\".join([block.text for block in tags_content.find_all(\"p\")])\n",
    "          if len(content.split()) > 30:\n",
    "               contents_thethao.append(content)\n",
    "       except:\n",
    "         c+=1\n",
    "         pass\n",
    "     all_link = []\n",
    "     count += 1\n",
    "     uri = next_button\n",
    "     if uri == \"/the-thao-p21\": break\n",
    "driver.quit()"
   ]
  },
  {
   "cell_type": "markdown",
   "metadata": {},
   "source": [
    "# Khoa hoc"
   ]
  },
  {
   "cell_type": "code",
   "execution_count": 12,
   "metadata": {},
   "outputs": [
    {
     "name": "stderr",
     "output_type": "stream",
     "text": [
      "C:\\Users\\ohmyb\\AppData\\Local\\Temp\\ipykernel_11132\\1724839389.py:3: DeprecationWarning: executable_path has been deprecated, please pass in a Service object\n",
      "  driver = webdriver.Chrome(ChromeDriverManager().install())\n"
     ]
    }
   ],
   "source": [
    "url = 'https://vnexpress.net'\n",
    "uri = \"/khoa-hoc\"\n",
    "driver = webdriver.Chrome(ChromeDriverManager().install())\n",
    "all_link = []\n",
    "contents_khoahoc = []\n",
    "while len(contents_khoahoc) < 1000:\n",
    "     #driver.execute_script(\"window.scrollTo(0, document.body.scrollHeight);\")\n",
    "     time.sleep(1)\n",
    "     driver.get(url+uri)\n",
    "     soup = BeautifulSoup(driver.page_source, 'html.parser')\n",
    "     [all_link.append(y['href']) for y in [x.find(\"a\") for x in soup.find_all('h3', class_='title-news')]]\n",
    "     next_button = soup.find(\"a\", class_=\"btn-page next-page\")[\"href\"]\n",
    "     for link in all_link:\n",
    "       try:\n",
    "          driver.get(link)\n",
    "          soup = BeautifulSoup(driver.page_source, 'html.parser')\n",
    "          time.sleep(1)\n",
    "          tags_content = soup.find(\"article\", class_= \"fck_detail\")\n",
    "          content = \"\".join([block.text for block in tags_content.find_all(\"p\")])\n",
    "          if len(content.split()) > 30:\n",
    "               contents_khoahoc.append(content)\n",
    "          else:\n",
    "               continue\n",
    "       except:\n",
    "          print(\"failed\")\n",
    "          pass\n",
    "     all_link = []\n",
    "     uri = next_button\n",
    "     if uri == \"/khoa-hoc-p21\": break\n",
    "driver.quit()"
   ]
  },
  {
   "cell_type": "code",
   "execution_count": 2,
   "metadata": {},
   "outputs": [
    {
     "ename": "NameError",
     "evalue": "name 'contents_khoahoc' is not defined",
     "output_type": "error",
     "traceback": [
      "\u001b[1;31m---------------------------------------------------------------------------\u001b[0m",
      "\u001b[1;31mNameError\u001b[0m                                 Traceback (most recent call last)",
      "\u001b[1;32me:\\NLP\\data\\crawl.ipynb Cell 9\u001b[0m in \u001b[0;36m<cell line: 1>\u001b[1;34m()\u001b[0m\n\u001b[1;32m----> <a href='vscode-notebook-cell:/e%3A/NLP/data/crawl.ipynb#X11sZmlsZQ%3D%3D?line=0'>1</a>\u001b[0m \u001b[39mlen\u001b[39m(contents_khoahoc)\n",
      "\u001b[1;31mNameError\u001b[0m: name 'contents_khoahoc' is not defined"
     ]
    }
   ],
   "source": [
    "len(contents_khoahoc)"
   ]
  },
  {
   "cell_type": "markdown",
   "metadata": {},
   "source": [
    "# Giai tri"
   ]
  },
  {
   "cell_type": "code",
   "execution_count": 14,
   "metadata": {},
   "outputs": [
    {
     "name": "stderr",
     "output_type": "stream",
     "text": [
      "C:\\Users\\ohmyb\\AppData\\Local\\Temp\\ipykernel_11132\\3029112419.py:3: DeprecationWarning: executable_path has been deprecated, please pass in a Service object\n",
      "  driver = webdriver.Chrome(ChromeDriverManager().install())\n"
     ]
    },
    {
     "name": "stdout",
     "output_type": "stream",
     "text": [
      "failed\n",
      "failed\n",
      "failed\n",
      "failed\n",
      "failed\n"
     ]
    }
   ],
   "source": [
    "url = 'https://vnexpress.net'\n",
    "uri = \"/giai-tri\"\n",
    "driver = webdriver.Chrome(ChromeDriverManager().install())\n",
    "all_link = []\n",
    "contents_giaitri = []\n",
    "while len(contents_giaitri) < 1000:\n",
    "     #driver.execute_script(\"window.scrollTo(0, document.body.scrollHeight);\")\n",
    "     time.sleep(1)\n",
    "     driver.get(url+uri)\n",
    "     soup = BeautifulSoup(driver.page_source, 'html.parser')\n",
    "     [all_link.append(y['href']) for y in [x.find(\"a\") for x in soup.find_all('h3', class_='title-news')]]\n",
    "     next_button = soup.find(\"a\", class_=\"btn-page next-page\")[\"href\"]\n",
    "     for link in all_link:\n",
    "       try:\n",
    "          driver.get(link)\n",
    "          soup = BeautifulSoup(driver.page_source, 'html.parser')\n",
    "          time.sleep(1)\n",
    "          tags_content = soup.find(\"article\", class_= \"fck_detail\")\n",
    "          content = \"\".join([block.text for block in tags_content.find_all(\"p\")])\n",
    "          if len(content.split()) > 30:\n",
    "               contents_giaitri.append(content)\n",
    "       except:\n",
    "          print(\"failed\")\n",
    "          pass\n",
    "     all_link = []\n",
    "     uri = next_button\n",
    "     if uri == \"/giai-tri-p21\": break\n",
    "driver.quit()"
   ]
  },
  {
   "cell_type": "code",
   "execution_count": 15,
   "metadata": {},
   "outputs": [
    {
     "data": {
      "text/plain": [
       "394"
      ]
     },
     "execution_count": 15,
     "metadata": {},
     "output_type": "execute_result"
    }
   ],
   "source": [
    "len(contents_giaitri)"
   ]
  },
  {
   "cell_type": "markdown",
   "metadata": {},
   "source": [
    "# Phap luat"
   ]
  },
  {
   "cell_type": "code",
   "execution_count": null,
   "metadata": {},
   "outputs": [],
   "source": [
    "url = 'https://vnexpress.net'\n",
    "uri = \"/phap-luat\"\n",
    "driver = webdriver.Chrome(ChromeDriverManager().install())\n",
    "all_link = []\n",
    "contents_phapluat = []\n",
    "while len(contents_phapluat) < 1000:\n",
    "     #driver.execute_script(\"window.scrollTo(0, document.body.scrollHeight);\")\n",
    "     time.sleep(1)\n",
    "     driver.get(url+uri)\n",
    "     soup = BeautifulSoup(driver.page_source, 'html.parser')\n",
    "     [all_link.append(y['href']) for y in [x.find(\"a\") for x in soup.find_all('h3', class_='title-news')]]\n",
    "     next_button = soup.find(\"a\", class_=\"btn-page next-page\")[\"href\"]\n",
    "     for link in all_link:\n",
    "       try:\n",
    "          driver.get(link)\n",
    "          soup = BeautifulSoup(driver.page_source, 'html.parser')\n",
    "          time.sleep(1)\n",
    "          tags_content = soup.find(\"article\", class_= \"fck_detail\")\n",
    "          content = \"\".join([block.text for block in tags_content.find_all(\"p\")])\n",
    "          if len(content.split()) > 30:\n",
    "               contents_phapluat.append(content)\n",
    "       except:\n",
    "          print(\"failed\")\n",
    "          pass\n",
    "     all_link = []\n",
    "     uri = next_button\n",
    "     if uri == \"/phap-luat-p21\": break\n",
    "driver.quit()"
   ]
  },
  {
   "cell_type": "markdown",
   "metadata": {},
   "source": [
    "# Giao duc"
   ]
  },
  {
   "cell_type": "code",
   "execution_count": null,
   "metadata": {},
   "outputs": [],
   "source": [
    "url = 'https://vnexpress.net'\n",
    "uri = \"/giao-duc\"\n",
    "driver = webdriver.Chrome(ChromeDriverManager().install())\n",
    "all_link = []\n",
    "contents_giaoduc = []\n",
    "while len(contents_giaoduc) < 1000:\n",
    "     #driver.execute_script(\"window.scrollTo(0, document.body.scrollHeight);\")\n",
    "     time.sleep(1)\n",
    "     driver.get(url+uri)\n",
    "     soup = BeautifulSoup(driver.page_source, 'html.parser')\n",
    "     [all_link.append(y['href']) for y in [x.find(\"a\") for x in soup.find_all('h3', class_='title-news')]]\n",
    "     next_button = soup.find(\"a\", class_=\"btn-page next-page\")[\"href\"]\n",
    "     for link in all_link:\n",
    "       try:\n",
    "          driver.get(link)\n",
    "          soup = BeautifulSoup(driver.page_source, 'html.parser')\n",
    "          time.sleep(1)\n",
    "          tags_content = soup.find(\"article\", class_= \"fck_detail\")\n",
    "          content = \"\".join([block.text for block in tags_content.find_all(\"p\")])\n",
    "          if len(content.split()) > 30:\n",
    "               contents_giaoduc.append(content)\n",
    "       except:\n",
    "          print(\"failed\")\n",
    "          pass\n",
    "     all_link = []\n",
    "     uri = next_button\n",
    "     if uri == \"/giao-duc-p21\": break\n",
    "driver.quit()"
   ]
  },
  {
   "cell_type": "code",
   "execution_count": null,
   "metadata": {},
   "outputs": [],
   "source": [
    "len(contents_giaoduc)"
   ]
  },
  {
   "cell_type": "markdown",
   "metadata": {},
   "source": [
    "# Suc khoe"
   ]
  },
  {
   "cell_type": "code",
   "execution_count": null,
   "metadata": {},
   "outputs": [],
   "source": [
    "url = 'https://vnexpress.net'\n",
    "uri = \"/suc-khoe\"\n",
    "driver = webdriver.Chrome(ChromeDriverManager().install())\n",
    "all_link = []\n",
    "contents_suckhoe_doisong = []\n",
    "while len(contents_suckhoe_doisong) < 1000:\n",
    "     #driver.execute_script(\"window.scrollTo(0, document.body.scrollHeight);\")\n",
    "     time.sleep(1)\n",
    "     driver.get(url+uri)\n",
    "     soup = BeautifulSoup(driver.page_source, 'html.parser')\n",
    "     [all_link.append(y['href']) for y in [x.find(\"a\") for x in soup.find_all('h3', class_='title-news')]]\n",
    "     next_button = soup.find(\"a\", class_=\"btn-page next-page\")[\"href\"]\n",
    "     for link in all_link:\n",
    "       try:\n",
    "          driver.get(link)\n",
    "          soup = BeautifulSoup(driver.page_source, 'html.parser')\n",
    "          time.sleep(1)\n",
    "          tags_content = soup.find(\"article\", class_= \"fck_detail\")\n",
    "          content = \"\".join([block.text for block in tags_content.find_all(\"p\")])\n",
    "          if len(content.split()) > 30:\n",
    "               contents_suckhoe_doisong.append(content)\n",
    "       except:\n",
    "          print(\"fail\")\n",
    "          pass\n",
    "     all_link = []\n",
    "     uri = next_button\n",
    "driver.quit()"
   ]
  },
  {
   "cell_type": "code",
   "execution_count": 1,
   "metadata": {},
   "outputs": [
    {
     "ename": "NameError",
     "evalue": "name 'contents_suckhoe_doisong' is not defined",
     "output_type": "error",
     "traceback": [
      "\u001b[1;31m---------------------------------------------------------------------------\u001b[0m",
      "\u001b[1;31mNameError\u001b[0m                                 Traceback (most recent call last)",
      "\u001b[1;32me:\\NLP\\data\\crawl.ipynb Cell 20\u001b[0m in \u001b[0;36m<cell line: 1>\u001b[1;34m()\u001b[0m\n\u001b[1;32m----> <a href='vscode-notebook-cell:/e%3A/NLP/data/crawl.ipynb#X25sZmlsZQ%3D%3D?line=0'>1</a>\u001b[0m contents_suckhoe_doisong\n",
      "\u001b[1;31mNameError\u001b[0m: name 'contents_suckhoe_doisong' is not defined"
     ]
    }
   ],
   "source": [
    "contents_suckhoe_doisong"
   ]
  }
 ],
 "metadata": {
  "kernelspec": {
   "display_name": "Python 3.10.2 64-bit",
   "language": "python",
   "name": "python3"
  },
  "language_info": {
   "codemirror_mode": {
    "name": "ipython",
    "version": 3
   },
   "file_extension": ".py",
   "mimetype": "text/x-python",
   "name": "python",
   "nbconvert_exporter": "python",
   "pygments_lexer": "ipython3",
   "version": "3.10.2"
  },
  "orig_nbformat": 4,
  "vscode": {
   "interpreter": {
    "hash": "9805ff7d18dfb0b72269b0d5a7784bb2a4df9213fe3a7a0d13f5f6896380ad5e"
   }
  }
 },
 "nbformat": 4,
 "nbformat_minor": 2
}
