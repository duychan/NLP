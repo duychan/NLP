{
 "cells": [
  {
   "cell_type": "code",
   "execution_count": 1,
   "metadata": {},
   "outputs": [],
   "source": [
    "import PyPDF2\n",
    "from PyPDF2 import PdfFileReader"
   ]
  },
  {
   "cell_type": "code",
   "execution_count": 4,
   "metadata": {},
   "outputs": [
    {
     "name": "stdout",
     "output_type": "stream",
     "text": [
      "35\n",
      "1© Akshay Kulkarni and Adarsha Shivananda 2019A. Kulkarni and A. Shivananda, Natural Language Processing Recipes,  https://doi.org/10.1007/978-1-4842-4267-4_1CHAPTER 1Extracting the DataIn this chapter, we are going to cover various sources of text data and ways to extract it, which can act as information or insights for businesses.Recipe 1. Text data collection using APIsRecipe 2. Reading PDF file in PythonRecipe 3. Reading word documentRecipe 4. Reading JSON objectRecipe 5. Reading HTML page and HTML parsingRecipe 6. Regular expressionsRecipe 7. String handlingRecipe 8. Web scraping IntroductionBefore getting into details of the book, let’s see the different possible data sources available in general. We need to identify potential data sources for a business’s benefit.\n"
     ]
    }
   ],
   "source": [
    "pdf = open(\"Tuan1_2.pdf\",\"rb\")\n",
    "pdf_reader = PyPDF2.PdfFileReader(pdf)\n",
    "print(pdf_reader.numPages)\n",
    "page = pdf_reader.getPage(0)\n",
    "print(page.extractText())\n",
    "pdf.close()"
   ]
  }
 ],
 "metadata": {
  "kernelspec": {
   "display_name": "Python 3.10.5 64-bit (windows store)",
   "language": "python",
   "name": "python3"
  },
  "language_info": {
   "codemirror_mode": {
    "name": "ipython",
    "version": 3
   },
   "file_extension": ".py",
   "mimetype": "text/x-python",
   "name": "python",
   "nbconvert_exporter": "python",
   "pygments_lexer": "ipython3",
   "version": "3.10.6"
  },
  "orig_nbformat": 4,
  "vscode": {
   "interpreter": {
    "hash": "3928ddc353f8a2c9be4da0a470a486be4ae30ec0aadff718d1bc910be592329a"
   }
  }
 },
 "nbformat": 4,
 "nbformat_minor": 2
}
